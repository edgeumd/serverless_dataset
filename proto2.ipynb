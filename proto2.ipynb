{
 "cells": [
  {
   "cell_type": "code",
   "execution_count": 1,
   "metadata": {},
   "outputs": [],
   "source": [
    "from cleaning.filter_files import SlsCleaner\n",
    "import glob\n",
    "import pickle"
   ]
  },
  {
   "cell_type": "code",
   "execution_count": 2,
   "metadata": {},
   "outputs": [],
   "source": [
    "data = []\n",
    "for i in glob.glob(\"dataset/serverless_framework/*.pkl\"):\n",
    "    try:\n",
    "        with open(i, \"rb\") as f:\n",
    "            content = pickle.load(f)\n",
    "        data = data + content\n",
    "    except:\n",
    "        print(i)\n",
    "        # print(content)\n",
    "        continue"
   ]
  },
  {
   "cell_type": "markdown",
   "metadata": {},
   "source": [
    "#### Removing duplicates."
   ]
  },
  {
   "cell_type": "code",
   "execution_count": 3,
   "metadata": {},
   "outputs": [],
   "source": [
    "data = list(set(data))"
   ]
  },
  {
   "cell_type": "code",
   "execution_count": 4,
   "metadata": {},
   "outputs": [
    {
     "name": "stdout",
     "output_type": "stream",
     "text": [
      "Total Data Points:  58091\n",
      "Unique Serverless Repos:  34066\n"
     ]
    }
   ],
   "source": [
    "print(\"Total Data Points: \",len(set(data)))\n",
    "print(\"Unique Serverless Repos: \",len(set([data[i][0] for i in range(len(data))])))"
   ]
  },
  {
   "cell_type": "markdown",
   "metadata": {},
   "source": [
    "### We collected 58091 data points & 33936 unique repositories."
   ]
  },
  {
   "cell_type": "code",
   "execution_count": 7,
   "metadata": {},
   "outputs": [
    {
     "data": {
      "text/plain": [
       "('vguddoda/AWS_serverless',\n",
       " 'https://github.com/vguddoda/AWS_serverless',\n",
       " 'aws-node-graphql-and-rds/resource/ServerlessSubnetC.yml',\n",
       " 'https://github.com/vguddoda/AWS_serverless/blob/9d446bbf01c64df7e0a41994cef0069cf0ad5e2e/aws-node-graphql-and-rds/resource/ServerlessSubnetC.yml')"
      ]
     },
     "execution_count": 7,
     "metadata": {},
     "output_type": "execute_result"
    }
   ],
   "source": [
    "data[1]"
   ]
  },
  {
   "cell_type": "code",
   "execution_count": 8,
   "metadata": {},
   "outputs": [],
   "source": [
    "sls = SlsCleaner([data[i][0] for i in range(len(data))])"
   ]
  },
  {
   "cell_type": "code",
   "execution_count": 9,
   "metadata": {},
   "outputs": [
    {
     "data": {
      "text/plain": [
       "29994"
      ]
     },
     "execution_count": 9,
     "metadata": {},
     "output_type": "execute_result"
    }
   ],
   "source": [
    "len(sls.processed_sls_list)"
   ]
  },
  {
   "cell_type": "code",
   "execution_count": 10,
   "metadata": {},
   "outputs": [
    {
     "data": {
      "text/plain": [
       "['https://www.github.com/itechdom/markab.io',\n",
       " 'https://www.github.com/datability-th/Klassbits-CAT',\n",
       " 'https://www.github.com/CranstonYeo/CS3219-Assignment-B',\n",
       " 'https://www.github.com/Indimeco/recipe-hub',\n",
       " 'https://www.github.com/forgotpw/forgotpw-secret-store-sqsworker-lambda',\n",
       " 'https://www.github.com/rama41222/serverless-articular',\n",
       " 'https://www.github.com/sloaisiga/rock-paper-scissors',\n",
       " 'https://www.github.com/DEFRA/ffoi-data-process',\n",
       " 'https://www.github.com/BlakeGuilloud/carousel',\n",
       " 'https://www.github.com/LiveChurchSolutions/AttendanceApi',\n",
       " 'https://www.github.com/knoxjeffrey/dynamic-image-resizer',\n",
       " 'https://www.github.com/Frog-kt/serverless-express-ts-templete',\n",
       " 'https://www.github.com/bobmacneal-spok/aws-node-rest-api-mongodb',\n",
       " 'https://www.github.com/HirudineeADRT/hiru0508_S3-image-fetch',\n",
       " 'https://www.github.com/Params-git/Serverless_API',\n",
       " 'https://www.github.com/gegham1/noment-shop',\n",
       " 'https://www.github.com/geofrocker/symmetrical-waffle',\n",
       " 'https://www.github.com/shashanktomar/serverless-webpack-babel-boilerplate',\n",
       " 'https://www.github.com/CanerSezgin/serverless-aws-tut',\n",
       " 'https://www.github.com/yai333/AWSandBlochainAuthFlow']"
      ]
     },
     "execution_count": 10,
     "metadata": {},
     "output_type": "execute_result"
    }
   ],
   "source": [
    "sls.processed_sls_list[130:150]"
   ]
  },
  {
   "cell_type": "code",
   "execution_count": 9,
   "metadata": {},
   "outputs": [],
   "source": [
    "# How many apps have todo in their name?"
   ]
  },
  {
   "cell_type": "code",
   "execution_count": 10,
   "metadata": {},
   "outputs": [],
   "source": [
    "def discover_serverless(sls_list,key=\"todo\"):\n",
    "    count = 0\n",
    "    for i in sls_list:\n",
    "        if key in i:\n",
    "            count+=1\n",
    "    return count"
   ]
  },
  {
   "cell_type": "code",
   "execution_count": 11,
   "metadata": {},
   "outputs": [
    {
     "name": "stdout",
     "output_type": "stream",
     "text": [
      "Todo Serverless Applications 543\n",
      "API Serverless Applications 3145\n",
      "Course Serverless Applications 0\n",
      "learn Serverless Applications 0\n",
      "Basic Serverless Applications 0\n",
      "edge Serverless Applications 66\n",
      "iot Serverless Applications 94\n",
      "aws Serverless Applications 2394\n",
      "simple Serverless Applications 115\n",
      "web Serverless Applications 507\n",
      "bot Serverless Applications 742\n"
     ]
    }
   ],
   "source": [
    "print(\"Todo Serverless Applications\",discover_serverless(sls.processed_sls_list))\n",
    "print(\"API Serverless Applications\",discover_serverless(sls.processed_sls_list,\"api\"))\n",
    "print(\"Course Serverless Applications\",discover_serverless(sls.processed_sls_list,\"course\"))\n",
    "print(\"learn Serverless Applications\",discover_serverless(sls.processed_sls_list,\"learn\"))\n",
    "print(\"Basic Serverless Applications\",discover_serverless(sls.processed_sls_list,\"basic\"))\n",
    "print(\"edge Serverless Applications\",discover_serverless(sls.processed_sls_list,\"edge\"))\n",
    "print(\"iot Serverless Applications\",discover_serverless(sls.processed_sls_list,\"iot\"))\n",
    "print(\"aws Serverless Applications\",discover_serverless(sls.processed_sls_list,\"aws\"))\n",
    "print(\"simple Serverless Applications\",discover_serverless(sls.processed_sls_list,\"simple\"))\n",
    "print(\"web Serverless Applications\",discover_serverless(sls.processed_sls_list,\"web\"))\n",
    "print(\"bot Serverless Applications\",discover_serverless(sls.processed_sls_list,\"bot\"))"
   ]
  },
  {
   "cell_type": "code",
   "execution_count": 13,
   "metadata": {},
   "outputs": [
    {
     "data": {
      "text/plain": [
       "['https://www.github.com/chauhan0707/cloud-capstone',\n",
       " 'https://www.github.com/vsuwansophon-palo/goserverless',\n",
       " 'https://www.github.com/lodz-university-of-technology-masi/PajeetInc',\n",
       " 'https://www.github.com/aronanubhav/serverless_2',\n",
       " 'https://www.github.com/t04glovern/dog-bark-detection',\n",
       " 'https://www.github.com/SirWilliamIII/serverless-aws',\n",
       " 'https://www.github.com/cr-lgl/laravel-bref',\n",
       " 'https://www.github.com/JoviDeCroock/serverless-graphql',\n",
       " 'https://www.github.com/amsross/revoter',\n",
       " 'https://www.github.com/adityajobalia/NewsOne']"
      ]
     },
     "execution_count": 13,
     "metadata": {},
     "output_type": "execute_result"
    }
   ],
   "source": [
    "sls.processed_sls_list[:10]"
   ]
  },
  {
   "cell_type": "code",
   "execution_count": null,
   "metadata": {},
   "outputs": [],
   "source": []
  }
 ],
 "metadata": {
  "interpreter": {
   "hash": "916dbcbb3f70747c44a77c7bcd40155683ae19c65e1c03b4aa3499c5328201f1"
  },
  "kernelspec": {
   "display_name": "Python 3.8.10 64-bit",
   "language": "python",
   "name": "python3"
  },
  "language_info": {
   "codemirror_mode": {
    "name": "ipython",
    "version": 3
   },
   "file_extension": ".py",
   "mimetype": "text/x-python",
   "name": "python",
   "nbconvert_exporter": "python",
   "pygments_lexer": "ipython3",
   "version": "3.8.10"
  },
  "orig_nbformat": 4
 },
 "nbformat": 4,
 "nbformat_minor": 2
}
